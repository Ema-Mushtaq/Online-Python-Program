{
 "cells": [
  {
   "cell_type": "code",
   "execution_count": 1,
   "id": "ee96b11b",
   "metadata": {},
   "outputs": [
    {
     "name": "stdout",
     "output_type": "stream",
     "text": [
      "Twinkle, twinkle, little star, \n",
      "\tHow I wonder what you are!\n",
      "\t\tUp above the world so high, \n",
      "\t\tLike a diamond in the sky. \n",
      "Twinkle, twinkle, little star, \n",
      "\tHow I wonder what you are\n"
     ]
    }
   ],
   "source": [
    "\"\"\"1. Write a Python program to print the following string in a specific format (see the\n",
    "output\"\"\"\n",
    "print(\"Twinkle, twinkle, little star, \\n\\tHow I wonder what you are!\\n\\t\\tUp above the world so high, \\n\\t\\tLike a diamond in the sky. \\nTwinkle, twinkle, little star, \\n\\tHow I wonder what you are\")"
   ]
  },
  {
   "cell_type": "code",
   "execution_count": 2,
   "id": "5ff41e02",
   "metadata": {},
   "outputs": [
    {
     "name": "stdout",
     "output_type": "stream",
     "text": [
      "Current date & time = 2021-10-23 18:18:34.519851\n"
     ]
    }
   ],
   "source": [
    "\"\"\"3. Write a Python program to display the current date and time.\"\"\"\n",
    "import datetime\n",
    "i = datetime.datetime.now();\n",
    "print(\"Current date & time = %s\" %i);"
   ]
  },
  {
   "cell_type": "code",
   "execution_count": 3,
   "id": "7dde0a45",
   "metadata": {},
   "outputs": [
    {
     "name": "stdout",
     "output_type": "stream",
     "text": [
      "Enter radius of circle: 8\n",
      "Area of circle is: \n",
      "200.96\n"
     ]
    }
   ],
   "source": [
    "\"\"\"4. Write a Python program which accepts the radius of a circle from the user and compute\n",
    "the area.\"\"\"\n",
    "radius = int(input(\"Enter radius of circle: \"));\n",
    "area = 3.14*radius**2;\n",
    "print(\"Area of circle is: \");\n",
    "print(area);\n"
   ]
  },
  {
   "cell_type": "code",
   "execution_count": 6,
   "id": "3b56ca24",
   "metadata": {},
   "outputs": [
    {
     "name": "stdout",
     "output_type": "stream",
     "text": [
      "Enter the First Name: Eman\n",
      "Enter the Last Name: Malik\n",
      "MalikEman\n"
     ]
    }
   ],
   "source": [
    "\"\"\"5. Write a Python program which accepts the user's first and last name and print them in\n",
    "reverse order with a space between them.\"\"\"\n",
    "First_Name = input(\"Enter the First Name: \");\n",
    "Last_Name = input(\"Enter the Last Name: \");\n",
    "print(Last_Name + First_Name);"
   ]
  },
  {
   "cell_type": "code",
   "execution_count": 7,
   "id": "5936f0d7",
   "metadata": {},
   "outputs": [
    {
     "name": "stdout",
     "output_type": "stream",
     "text": [
      "Enter 1st Numeber: 45\n",
      "Enter 2nd Number: 20\n",
      "Adding num1 & num2:  65\n"
     ]
    }
   ],
   "source": [
    "\"\"\"6. Write a python program which takes two inputs from user and print them addition\"\"\"\n",
    "num1 = int(input(\"Enter 1st Numeber: \"));\n",
    "num2 = int(input(\"Enter 2nd Number: \"));\n",
    "add = num1 + num2;\n",
    "print(\"Adding num1 & num2: \",add)\n"
   ]
  },
  {
   "cell_type": "code",
   "execution_count": 10,
   "id": "638c8a52",
   "metadata": {},
   "outputs": [
    {
     "name": "stdout",
     "output_type": "stream",
     "text": [
      "Enter English Marks: 65\n",
      "Enter Urdu Marks: 70\n",
      "Enter Isl Marks: 75\n",
      "Enter Maths Marks: 96\n",
      "Enter Physic Marks: 80\n",
      "A\n"
     ]
    }
   ],
   "source": [
    "\"\"\"7. Write a program which takes 5 inputs from user for different subject’s marks, total it\n",
    "and generate mark sheet using grades ?\"\"\"\n",
    "English = int(input(\"Enter English Marks: \"));\n",
    "Urdu = int(input(\"Enter Urdu Marks: \"));\n",
    "Isl = int(input(\"Enter Isl Marks: \"));\n",
    "Maths = int(input(\"Enter Maths Marks: \"));\n",
    "Physic = int(input(\"Enter Physic Marks: \"));\n",
    "Total_Marks = 500;\n",
    "percentage = (English + Urdu + Isl + Maths + Physic)/Total_Marks*100;\n",
    "if percentage < 100 and percentage > 80:\n",
    "    print(\"A+\");\n",
    "elif percentage < 80 and percentage > 70:\n",
    "    print(\"A\");\n",
    "elif percentage < 70 and percentage > 60:\n",
    "    print(\"B\"); \n",
    "elif percentage < 60 and percentage > 50:\n",
    "    print(\"C\"); \n",
    "elif percentage < 50 and percentage > 40:\n",
    "    print(\"D\");  \n",
    "elif percentage < 40 and percentage > 33:\n",
    "    print(\"E\"); \n",
    "elif percentage < 0 and percentage > 100:\n",
    "    print(\"You didnot write a correct percentage\");\n",
    "else:\n",
    "    print(\"Fail\");"
   ]
  },
  {
   "cell_type": "code",
   "execution_count": 11,
   "id": "cea14dc6",
   "metadata": {},
   "outputs": [
    {
     "name": "stdout",
     "output_type": "stream",
     "text": [
      "Enter a number: 26\n",
      "26 is an even number\n"
     ]
    }
   ],
   "source": [
    "\"\"\"8. Write a program which take input from user and identify that the given number is even\n",
    "or odd?\"\"\"\n",
    "num = int(input(\"Enter a number: \"));\n",
    "if num%2 == 0:\n",
    "    print(str(num) + \" is an even number\");\n",
    "else:\n",
    "    print(str(num) + \" is an odd number\") "
   ]
  },
  {
   "cell_type": "code",
   "execution_count": 13,
   "id": "e290abd4",
   "metadata": {},
   "outputs": [
    {
     "name": "stdout",
     "output_type": "stream",
     "text": [
      "1st method.Largest element is: 55\n",
      "2nd method.Largest elemen is: 55\n"
     ]
    }
   ],
   "source": [
    "\"\"\"11.Write a Python program to get the largest number from a numeric list.\"\"\"\n",
    "list = [10,30,8,55,9];\n",
    "list.sort();\n",
    "print(\"1st method.Largest element is:\", list[-1]);\n",
    "print(\"2nd method.Largest elemen is:\", max(list));"
   ]
  },
  {
   "cell_type": "code",
   "execution_count": 14,
   "id": "8276e4e0",
   "metadata": {},
   "outputs": [
    {
     "name": "stdout",
     "output_type": "stream",
     "text": [
      "Length of list is: 4\n"
     ]
    }
   ],
   "source": [
    "\"\"\"9. Write a program which print the length of the list?\"\"\"\n",
    "list = [\"apple\",\"mango\",\"strawberry\",\"orange\"]\n",
    "length = len(list);\n",
    "print(\"Length of list is: \" + str(length));"
   ]
  },
  {
   "cell_type": "code",
   "execution_count": 15,
   "id": "f8accc61",
   "metadata": {},
   "outputs": [
    {
     "name": "stdout",
     "output_type": "stream",
     "text": [
      "89\n"
     ]
    }
   ],
   "source": [
    "\"\"\"12. Take a list, say for example this one:\n",
    "a = [1, 1, 2, 3, 5, 8, 13, 21, 34, 55, 89]\n",
    "Write a program that prints out all the elements of the list that are less than 5.\"\"\"\n",
    "num = [1, 1, 2, 3, 5, 8, 13, 21, 34, 55, 89];\n",
    "for x in num:\n",
    "    if x > 5:\n",
    "        continue\n",
    "print(x)        "
   ]
  },
  {
   "cell_type": "code",
   "execution_count": 1,
   "id": "213b24ef",
   "metadata": {},
   "outputs": [
    {
     "name": "stdout",
     "output_type": "stream",
     "text": [
      "python version\n",
      "3.8.8 (default, Apr 13 2021, 15:08:03) [MSC v.1916 64 bit (AMD64)]\n",
      "python info\n",
      "sys.version_info(major=3, minor=8, micro=8, releaselevel='final', serial=0)\n"
     ]
    }
   ],
   "source": [
    "\"\"\"2. Write a Python program to get the Python version you are using\"\"\"\n",
    "import sys\n",
    "print(\"python version\")\n",
    "print(sys.version)\n",
    "print(\"python info\")\n",
    "print(sys.version_info)"
   ]
  },
  {
   "cell_type": "code",
   "execution_count": null,
   "id": "4091903c",
   "metadata": {},
   "outputs": [],
   "source": []
  }
 ],
 "metadata": {
  "kernelspec": {
   "display_name": "Python 3",
   "language": "python",
   "name": "python3"
  },
  "language_info": {
   "codemirror_mode": {
    "name": "ipython",
    "version": 3
   },
   "file_extension": ".py",
   "mimetype": "text/x-python",
   "name": "python",
   "nbconvert_exporter": "python",
   "pygments_lexer": "ipython3",
   "version": "3.8.8"
  }
 },
 "nbformat": 4,
 "nbformat_minor": 5
}
