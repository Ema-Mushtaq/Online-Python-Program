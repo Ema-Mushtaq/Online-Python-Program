{
 "cells": [
  {
   "cell_type": "code",
   "execution_count": 1,
   "id": "b857a2e3",
   "metadata": {},
   "outputs": [
    {
     "name": "stdout",
     "output_type": "stream",
     "text": [
      "Enter the a value: 8\n",
      "Enter the b value: 2\n",
      "Addition:  10\n",
      "Subtarction:  6\n",
      "Multiplication:  16\n",
      "Division:  4.0\n",
      "Power:  64\n"
     ]
    }
   ],
   "source": [
    "\"\"\"1. Make a calculator using Python with addition , subtraction ,\n",
    "multiplication ,division and power.\"\"\"\n",
    "a = int(input(\"Enter the a value: \"));\n",
    "b = int(input(\"Enter the b value: \"));\n",
    "\n",
    "add = (a + b);\n",
    "sub = (a - b);\n",
    "multiply = (a * b);\n",
    "div = (a / b);\n",
    "power = (a ** b);\n",
    "\n",
    "print(\"Addition: \",add);\n",
    "print(\"Subtarction: \",sub);\n",
    "print(\"Multiplication: \",multiply);\n",
    "print(\"Division: \",div);\n",
    "print (\"Power: \",power)"
   ]
  },
  {
   "cell_type": "code",
   "execution_count": 2,
   "id": "c028e0a0",
   "metadata": {},
   "outputs": [
    {
     "name": "stdout",
     "output_type": "stream",
     "text": [
      "There is a numeric value\n"
     ]
    }
   ],
   "source": [
    "\"\"\"2. Write a program to check if there is any numeric value in list using for\n",
    "loop.\"\"\"\n",
    "list1 = ['1','10.5','a']\n",
    "for i in list1:\n",
    "    if i.isnumeric():\n",
    "        print(\"There is a numeric value\")"
   ]
  },
  {
   "cell_type": "code",
   "execution_count": 3,
   "id": "068cfab1",
   "metadata": {},
   "outputs": [
    {
     "name": "stdout",
     "output_type": "stream",
     "text": [
      "1\n",
      "2\n",
      "3\n",
      "4\n",
      "5\n"
     ]
    }
   ],
   "source": [
    "#3.Write a Python script to add a key to a dictionary.\n",
    "d = {1:'a', 2:'b', 3:'c', 4:'d'}\n",
    "d[5] = 'e'\n",
    "for i in d.keys():\n",
    "    print(i)"
   ]
  },
  {
   "cell_type": "code",
   "execution_count": 4,
   "id": "9d5df87e",
   "metadata": {},
   "outputs": [
    {
     "name": "stdout",
     "output_type": "stream",
     "text": [
      "total = 55\n"
     ]
    }
   ],
   "source": [
    "#4. Write a Python program to sum all the numeric items in a dictionary.\n",
    "dic = {'apple':10, 'banana':30, 'orange':15}\n",
    "sum=0\n",
    "for i in dic.values():\n",
    "     sum = sum+i\n",
    "print ('total'+\" \" + '=',sum )    \n"
   ]
  },
  {
   "cell_type": "code",
   "execution_count": 5,
   "id": "58113d5d",
   "metadata": {},
   "outputs": [
    {
     "name": "stdout",
     "output_type": "stream",
     "text": [
      "Amna "
     ]
    }
   ],
   "source": [
    "#5. Write a program to identify duplicate values from list.\n",
    "names=['Amna','Farwa','Malaika','Amna','Jay']\n",
    "names1=[]\n",
    "for i in names:\n",
    "    if i not in names1:\n",
    "        names1.append(i)\n",
    "    else:\n",
    "        print(i,end=' ')"
   ]
  },
  {
   "cell_type": "code",
   "execution_count": 6,
   "id": "7b49dfa1",
   "metadata": {},
   "outputs": [
    {
     "name": "stdout",
     "output_type": "stream",
     "text": [
      "f\n"
     ]
    }
   ],
   "source": [
    "\"\"\"6. Write a Python script to check if a given key already exists in a\n",
    "dictionary\"\"\"\n",
    "d = {1:'a', 2:'b', 10:'e', 8:'f'}\n",
    "print(d.get(8))\n"
   ]
  },
  {
   "cell_type": "code",
   "execution_count": null,
   "id": "1cf6f499",
   "metadata": {},
   "outputs": [],
   "source": []
  }
 ],
 "metadata": {
  "kernelspec": {
   "display_name": "Python 3",
   "language": "python",
   "name": "python3"
  },
  "language_info": {
   "codemirror_mode": {
    "name": "ipython",
    "version": 3
   },
   "file_extension": ".py",
   "mimetype": "text/x-python",
   "name": "python",
   "nbconvert_exporter": "python",
   "pygments_lexer": "ipython3",
   "version": "3.8.8"
  }
 },
 "nbformat": 4,
 "nbformat_minor": 5
}
